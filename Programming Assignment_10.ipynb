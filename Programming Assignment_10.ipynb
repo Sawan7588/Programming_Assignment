{
 "cells": [
  {
   "cell_type": "code",
   "execution_count": 12,
   "id": "d8928bb3",
   "metadata": {},
   "outputs": [
    {
     "name": "stdout",
     "output_type": "stream",
     "text": [
      "15\n"
     ]
    }
   ],
   "source": [
    "## Q. 1. Write a Python program to find sum of elements in list?\n",
    "\n",
    "l = [1,2,3,4,5]\n",
    "sum = 0\n",
    "for i in l:\n",
    "    sum = sum + i\n",
    "    \n",
    "print(sum)"
   ]
  },
  {
   "cell_type": "code",
   "execution_count": 13,
   "id": "2cbd1782",
   "metadata": {},
   "outputs": [
    {
     "name": "stdout",
     "output_type": "stream",
     "text": [
      "120\n"
     ]
    }
   ],
   "source": [
    "## Q. 2 Write a Python program to Multiply all numbers in the list?\n",
    "\n",
    "l = [1,2,3,4,5]\n",
    "mul = 1\n",
    "for i in l:\n",
    "    mul = mul * i\n",
    "    \n",
    "print(mul)\n"
   ]
  },
  {
   "cell_type": "code",
   "execution_count": 24,
   "id": "590290ff",
   "metadata": {},
   "outputs": [
    {
     "name": "stdout",
     "output_type": "stream",
     "text": [
      "smallest number in list is : 2\n"
     ]
    }
   ],
   "source": [
    "## Q. 3. Write a Python program to find smallest number in a list?\n",
    "\n",
    "l = [9,2,3,4,5,3,4,5,6,7]\n",
    "print(\"smallest number in list is :\",min(l))"
   ]
  },
  {
   "cell_type": "code",
   "execution_count": 23,
   "id": "2d0c11c2",
   "metadata": {},
   "outputs": [
    {
     "name": "stdout",
     "output_type": "stream",
     "text": [
      "largest number in list is : 9\n"
     ]
    }
   ],
   "source": [
    "## Q.4. Write a Python program to find largest number in a list?\n",
    "\n",
    "l = [9,2,3,4,5,3,4,5,6,7]\n",
    "print(\"largest number in list is :\", max(l))"
   ]
  },
  {
   "cell_type": "code",
   "execution_count": 22,
   "id": "be1ebaef",
   "metadata": {},
   "outputs": [
    {
     "name": "stdout",
     "output_type": "stream",
     "text": [
      "second largest number from list is : 7\n"
     ]
    }
   ],
   "source": [
    "## Q. 5. Write a Python program to find second largest number in a list?\n",
    "\n",
    "l = [9,2,3,4,5,3,4,5,6,7]\n",
    "s = sorted(l)\n",
    "i = len(l)\n",
    "print(\"second largest number from list is :\", l2[i-2])"
   ]
  },
  {
   "cell_type": "code",
   "execution_count": 30,
   "id": "30e0245b",
   "metadata": {},
   "outputs": [
    {
     "name": "stdout",
     "output_type": "stream",
     "text": [
      "number of max  elements of list  : 4\n",
      "[76, 65, 35, 34]\n"
     ]
    }
   ],
   "source": [
    "## Q. 6. Write a Python program to find N largest elements from a list?\n",
    "\n",
    "def Nmaxelements(list1, N):\n",
    "    final_list = []\n",
    "    for i in range(0,N):\n",
    "        max1 = 0\n",
    "        for j in range(len(list1)):\n",
    "            if list1[j] > max1:\n",
    "                max1 = list1[j]\n",
    "        list1.remove(max1)\n",
    "        final_list.append(max1)\n",
    "        \n",
    "    print(final_list)\n",
    "    \n",
    "list1 = [1,2,3,4,3,4,65,34,13,35,76]\n",
    "N = int(input(\"number of max  elements of list  : \"))\n",
    "Nmaxelements(list1,N)"
   ]
  },
  {
   "cell_type": "code",
   "execution_count": 51,
   "id": "5773b3a6",
   "metadata": {},
   "outputs": [
    {
     "name": "stdout",
     "output_type": "stream",
     "text": [
      "even numbers in list\n",
      "2\n",
      "4\n",
      "6\n",
      "2\n",
      "4\n",
      "6\n",
      "8\n",
      "12\n",
      "14\n"
     ]
    }
   ],
   "source": [
    "## Q. 7. Write a Python program to print even numbers in a list?\n",
    "\n",
    "l = [1,2,3,4,5,6,7,2,4,5,6,8,12,14]\n",
    "print(\"even numbers in list\")\n",
    "for i in l:\n",
    "    if i%2 == 0:\n",
    "        print(i)\n",
    "        \n",
    "\n",
    "        "
   ]
  },
  {
   "cell_type": "code",
   "execution_count": 52,
   "id": "c2f74d3f",
   "metadata": {},
   "outputs": [
    {
     "name": "stdout",
     "output_type": "stream",
     "text": [
      "odd numbers in list\n",
      "1\n",
      "3\n",
      "5\n",
      "7\n",
      "13\n",
      "11\n"
     ]
    }
   ],
   "source": [
    "## Q.8. Write a Python program to print odd numbers in a List?\n",
    "\n",
    "l = [1,3,5,2,6,7,8,12,13,11]\n",
    "print(\"odd numbers in list\")\n",
    "for i in l:\n",
    "    if i%2 != 0:\n",
    "        print(i)"
   ]
  },
  {
   "cell_type": "code",
   "execution_count": 21,
   "id": "d835083a",
   "metadata": {},
   "outputs": [
    {
     "name": "stdout",
     "output_type": "stream",
     "text": [
      "original list :  [1, 2, 3, 4, [2, 3, 4], [], 1, 3, [2, 6, 7]]\n",
      "list after removal of empty list :  [1, 2, 3, 4, [2, 3, 4], 1, 3, [2, 6, 7]]\n"
     ]
    }
   ],
   "source": [
    "## 9. Write a Python program to Remove empty List from List?\n",
    "\n",
    "l = [1,2,3,4,[2,3,4], [], 1,3, [2,6,7]]\n",
    "res = [i for i in l if i != []]\n",
    "print(\"original list : \", str(l))\n",
    "print(\"list after removal of empty list : \", str(res))\n",
    "       \n",
    "        \n",
    "       \n",
    "        "
   ]
  },
  {
   "cell_type": "code",
   "execution_count": 28,
   "id": "c1904c5a",
   "metadata": {},
   "outputs": [
    {
     "name": "stdout",
     "output_type": "stream",
     "text": [
      "original list :  [1, 2, 3, 4, [2, 3, 4], [], 1, 3, [2, 6, 7]]\n",
      "copy of list :  [1, 2, 3, 4, [2, 3, 4], [], 1, 3, [2, 6, 7]]\n"
     ]
    }
   ],
   "source": [
    "## Q . 10. Write a Python program to Cloning or Copying a list?\n",
    "\n",
    "l = [1,2,3,4,[2,3,4], [], 1,3, [2,6,7]]\n",
    "l_copy = []\n",
    "for i in l:\n",
    "    l_copy.append(i)\n",
    "print(\"original list : \", l)    \n",
    "print(\"copy of list : \", l_copy)"
   ]
  },
  {
   "cell_type": "code",
   "execution_count": 31,
   "id": "c6db27f6",
   "metadata": {},
   "outputs": [
    {
     "name": "stdout",
     "output_type": "stream",
     "text": [
      "occurence of  4 in list is : 3\n"
     ]
    }
   ],
   "source": [
    "## Q. 11. Write a Python program to Count occurrences of an element in a list?\n",
    "def countX(l,X):\n",
    "    count = 0\n",
    "    for i in l:\n",
    "        if i == X:\n",
    "            count = count + 1\n",
    "    return count\n",
    "\n",
    "X = 4\n",
    "l = [1,1,2,3,4,1,3,4,5,6,3,2,1,2,3,4]\n",
    "\n",
    "print(\"occurence of \", X, \"in list is :\", countX(l,X))\n",
    "\n",
    "        "
   ]
  },
  {
   "cell_type": "code",
   "execution_count": null,
   "id": "22d03db0",
   "metadata": {},
   "outputs": [],
   "source": []
  }
 ],
 "metadata": {
  "kernelspec": {
   "display_name": "Python 3 (ipykernel)",
   "language": "python",
   "name": "python3"
  },
  "language_info": {
   "codemirror_mode": {
    "name": "ipython",
    "version": 3
   },
   "file_extension": ".py",
   "mimetype": "text/x-python",
   "name": "python",
   "nbconvert_exporter": "python",
   "pygments_lexer": "ipython3",
   "version": "3.9.12"
  }
 },
 "nbformat": 4,
 "nbformat_minor": 5
}
