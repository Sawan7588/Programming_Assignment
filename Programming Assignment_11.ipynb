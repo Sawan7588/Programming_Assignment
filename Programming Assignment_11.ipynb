{
 "cells": [
  {
   "cell_type": "code",
   "execution_count": 3,
   "id": "bcc1c95c",
   "metadata": {},
   "outputs": [
    {
     "name": "stdout",
     "output_type": "stream",
     "text": [
      "sawan\n",
      "palsiya\n",
      "jupyter\n"
     ]
    }
   ],
   "source": [
    "## Q. 1. Write a Python program to find words which are greater than given length k?\n",
    "\n",
    "k = 4\n",
    "s = \"sawan\", \"palsiya\", \"jupyter\", \"ed\", \"ABC\"\n",
    "for i in s:\n",
    "    if len(i) >= k:\n",
    "        print(i)\n",
    "    \n",
    "    "
   ]
  },
  {
   "cell_type": "code",
   "execution_count": 9,
   "id": "ad041032",
   "metadata": {},
   "outputs": [
    {
     "data": {
      "text/plain": [
       "'ineuron'"
      ]
     },
     "execution_count": 9,
     "metadata": {},
     "output_type": "execute_result"
    }
   ],
   "source": [
    "## Q. 2. Write a Python program for removing i-th character from a string?\n",
    "\n",
    "def remove_ith_char(string, i):\n",
    "    a = string[: i]\n",
    "    b = string[i+1 :]\n",
    "    return a+b\n",
    "remove_ith_char(\"ineufron\", 4)"
   ]
  },
  {
   "cell_type": "code",
   "execution_count": 21,
   "id": "3812a6a1",
   "metadata": {},
   "outputs": [
    {
     "name": "stdout",
     "output_type": "stream",
     "text": [
      "split string :  ['sawan', 'palasiya']\n",
      "join string :  sawanofpalasiya\n"
     ]
    }
   ],
   "source": [
    "## Q.3 Write a Python program to split and join a string?\n",
    "\n",
    "s = \"sawanofpalasiya\"\n",
    "s1 = s.split(\"of\")\n",
    "print(\"split string : \", s1)\n",
    "s2 = ('of'.join(s1))\n",
    "print(\"join string : \", s2)"
   ]
  },
  {
   "cell_type": "code",
   "execution_count": 26,
   "id": "8dd63f65",
   "metadata": {},
   "outputs": [
    {
     "name": "stdout",
     "output_type": "stream",
     "text": [
      "string is binary\n"
     ]
    }
   ],
   "source": [
    "## Q. 4. Write a Python to check if a given string is binary string or not?\n",
    "\n",
    "def binary_string(string):\n",
    "    p = set(string)\n",
    "    s = {'0','1'}\n",
    "    if s == p or p == {'0'} or p == {'1'}:\n",
    "        print(\"string is binary\")\n",
    "    else:\n",
    "        print(\"string is not binary\")\n",
    "        \n",
    "binary_string(\"01010110\")\n",
    "    "
   ]
  },
  {
   "cell_type": "code",
   "execution_count": 34,
   "id": "231f54f8",
   "metadata": {},
   "outputs": [
    {
     "name": "stdout",
     "output_type": "stream",
     "text": [
      "['mango', 'peach']\n"
     ]
    }
   ],
   "source": [
    "## Q.5. Write a Python program to find uncommon words from two Strings?\n",
    "\n",
    "s1 = \"berry mango cherry\"\n",
    "s2 = \" berry peach cherry\"\n",
    "list_s1 = s1.split()\n",
    "list_s2 = s2.split()\n",
    "k = set(list_s1).symmetric_difference(set(list_s2))\n",
    "print(list(k))"
   ]
  },
  {
   "cell_type": "code",
   "execution_count": 43,
   "id": "2e50cf3e",
   "metadata": {},
   "outputs": [
    {
     "name": "stdout",
     "output_type": "stream",
     "text": [
      "duplicate characters in string : s a\n"
     ]
    }
   ],
   "source": [
    "## Q.6 Write a Python to find all duplicate characters in string?\n",
    "\n",
    "def find_dup_char(input):\n",
    "    x = []\n",
    "    for i in input:\n",
    "        if i not in x and input.count(i) > 1:\n",
    "            x.append(i)\n",
    "    print(\"duplicate characters in string :\",\" \".join(x))\n",
    "    \n",
    "\n",
    "find_dup_char(\"sawanpalasiya\")\n",
    "    \n"
   ]
  },
  {
   "cell_type": "code",
   "execution_count": 44,
   "id": "d0abbbf2",
   "metadata": {},
   "outputs": [
    {
     "name": "stdout",
     "output_type": "stream",
     "text": [
      "string is not accepted\n"
     ]
    }
   ],
   "source": [
    "## Q. 7 Write a Python Program to check if a string contains any special character?\n",
    "\n",
    "s = \"saw@n pala$iya\"\n",
    "s.split()\n",
    "spe_char = '[@_!#$%^&*()<>?/\\|}{~:]'\n",
    "c = 0\n",
    "for i in range(len(s)):\n",
    "    if s[i] in spe_char:\n",
    "        c+=1\n",
    "        \n",
    "if c:\n",
    "    print(\"string is not accepted\")\n",
    "else:\n",
    "    print(\"string is accepted\")"
   ]
  },
  {
   "cell_type": "code",
   "execution_count": null,
   "id": "bc40d342",
   "metadata": {},
   "outputs": [],
   "source": []
  }
 ],
 "metadata": {
  "kernelspec": {
   "display_name": "Python 3 (ipykernel)",
   "language": "python",
   "name": "python3"
  },
  "language_info": {
   "codemirror_mode": {
    "name": "ipython",
    "version": 3
   },
   "file_extension": ".py",
   "mimetype": "text/x-python",
   "name": "python",
   "nbconvert_exporter": "python",
   "pygments_lexer": "ipython3",
   "version": "3.9.12"
  }
 },
 "nbformat": 4,
 "nbformat_minor": 5
}
