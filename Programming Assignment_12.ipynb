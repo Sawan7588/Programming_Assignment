{
 "cells": [
  {
   "cell_type": "code",
   "execution_count": 14,
   "id": "1ba1ef1f",
   "metadata": {},
   "outputs": [
    {
     "name": "stdout",
     "output_type": "stream",
     "text": [
      "original dictionary : {'A': [1, 2, 3, 4, 5], 'B': [1, 2, 3, 4, 5], 'C': [1, 2, 3, 4, 5]}\n",
      "unique values from dictionary is : [1, 2, 3, 4, 5]\n"
     ]
    }
   ],
   "source": [
    "## Q 1. Write a Python program to Extract Unique values dictionary values?\n",
    "\n",
    "d = {'A': [1,2,3,4,5], 'B':[1,2,3,4,5], 'C':[1,2,3,4,5]}\n",
    "\n",
    "res = list(sorted({ i for val in d.values() for i in val}))\n",
    "\n",
    "print(\"original dictionary :\", d)\n",
    "print(\"unique values from dictionary is :\",res )"
   ]
  },
  {
   "cell_type": "code",
   "execution_count": 21,
   "id": "f0a2575a",
   "metadata": {},
   "outputs": [
    {
     "name": "stdout",
     "output_type": "stream",
     "text": [
      "45\n"
     ]
    }
   ],
   "source": [
    "## Q 2. Write a Python program to find the sum of all items in a dictionary?\n",
    "d = {'A': [1,2,3,4,5], 'B':[1,2,3,4,5], 'C':[1,2,3,4,5]}\n",
    "sum = 0\n",
    "for val in d.values():\n",
    "    for i in val:\n",
    "        sum = sum + i\n",
    "print(sum)"
   ]
  },
  {
   "cell_type": "code",
   "execution_count": 25,
   "id": "8b274090",
   "metadata": {},
   "outputs": [
    {
     "name": "stdout",
     "output_type": "stream",
     "text": [
      "merged dictionary {'A': [1, 2, 3, 4, 5], 'B': [1, 2, 3, 4, 5], 'C': [1, 2, 3, 4, 5], 'D': 1, 'E': 2, 'F': 3}\n"
     ]
    }
   ],
   "source": [
    "## Q.3. Write a Python program to Merging two Dictionaries?\n",
    "\n",
    "d1 = {'A': [1,2,3,4,5], 'B':[1,2,3,4,5], 'C':[1,2,3,4,5]}\n",
    "d2 = {'D': 1, 'E': 2, 'F':3}\n",
    "d = d|d1\n",
    "\n",
    "print(\"merged dictionary\",d3)"
   ]
  },
  {
   "cell_type": "code",
   "execution_count": 37,
   "id": "7cca0b3b",
   "metadata": {},
   "outputs": [
    {
     "name": "stdout",
     "output_type": "stream",
     "text": [
      "the original dictionary is :{'month': [1, 2, 3], 'name': ['Jan', 'Feb', 'March']}\n",
      "flattered dict : {1: 'Jan', 2: 'Feb', 3: 'March'}\n"
     ]
    }
   ],
   "source": [
    "## Q. 4. Write a Python program to convert key-values list to flat dictionary?\n",
    "test_dict = {'month' : [1, 2, 3],\n",
    "            'name' : ['Jan', 'Feb', 'March']}\n",
    "print(\"the original dictionary is :\" + str(test_dict))\n",
    "\n",
    "x = list(test_dict.values())\n",
    "\n",
    "\n",
    "\n",
    "a = x[0]\n",
    "b = x[1]\n",
    "d = dict()\n",
    "for i in range(0, len(a)):\n",
    "    d[a[i]] = b[i]\n",
    "print(\"flattered dict :\",d)"
   ]
  },
  {
   "cell_type": "code",
   "execution_count": 43,
   "id": "abf1f1ec",
   "metadata": {},
   "outputs": [
    {
     "name": "stdout",
     "output_type": "stream",
     "text": [
      "OrderedDict([('c', 3), ('a', 1), ('b', 2)])\n"
     ]
    }
   ],
   "source": [
    "## Q. 5. Write a Python program to insertion at the beginning in OrderedDict?\n",
    "\n",
    "from collections import OrderedDict\n",
    "iniordered_dict = OrderedDict({'a':1, 'b':2})\n",
    "\n",
    "iniordered_dict.update({'c': 3})\n",
    "iniordered_dict.move_to_end('c', last = False)\n",
    "print(iniordered_dict)"
   ]
  },
  {
   "cell_type": "code",
   "execution_count": 54,
   "id": "03faa117",
   "metadata": {},
   "outputs": [
    {
     "name": "stdout",
     "output_type": "stream",
     "text": [
      "true\n"
     ]
    }
   ],
   "source": [
    "## Q.6. Write a Python program to check order of character in string using OrderedDict()?\n",
    "\n",
    "from collections import OrderedDict\n",
    "\n",
    "def CheckOrder(input, pattern):\n",
    "    dict = OrderedDict.fromkeys(input)\n",
    "    ptrlen = 0\n",
    "    for key, value in dict.items():\n",
    "        if(key == pattern[ptrlen]):\n",
    "            ptrlen = ptrlen + 1\n",
    "            \n",
    "        if(ptrlen == (len(pattern))):\n",
    "            return 'true'\n",
    "\n",
    "    return 'false'\n",
    "        \n",
    "input = 'engineers rock'\n",
    "pattern = 'er'\n",
    "print(CheckOrder(input,pattern))    "
   ]
  },
  {
   "cell_type": "code",
   "execution_count": 78,
   "id": "6fd74393",
   "metadata": {},
   "outputs": [
    {
     "name": "stdout",
     "output_type": "stream",
     "text": [
      "key_value {2: 56, 1: 2, 5: 12, 4: 24, 6: 18, 3: 323}\n",
      "Values sorted  order by the value\n",
      "[(1, 2), (5, 12), (6, 18), (4, 24), (2, 56), (3, 323)]\n"
     ]
    }
   ],
   "source": [
    "## Q. 7. Write a Python program to sort Python Dictionaries by Key or Value?\n",
    "\n",
    "def dictionairy():\n",
    "       # Declaring hash function\n",
    "    key_value = {}\n",
    " \n",
    "# Initializing the value\n",
    "    key_value[2] = 56\n",
    "    key_value[1] = 2\n",
    "    key_value[5] = 12\n",
    "    key_value[4] = 24\n",
    "    key_value[6] = 18\n",
    "    key_value[3] = 323\n",
    "     \n",
    "    print(\"key_value\",key_value)\n",
    " \n",
    "    print(\"Values sorted\",\n",
    "          \" order by the value\")\n",
    "    print(sorted(key_value.items(), key=lambda kv:\n",
    "                 (kv[1], kv[0])))\n",
    "    \n",
    "   \n",
    "dictionairy()"
   ]
  },
  {
   "cell_type": "code",
   "execution_count": null,
   "id": "3404c17c",
   "metadata": {},
   "outputs": [],
   "source": []
  }
 ],
 "metadata": {
  "kernelspec": {
   "display_name": "Python 3 (ipykernel)",
   "language": "python",
   "name": "python3"
  },
  "language_info": {
   "codemirror_mode": {
    "name": "ipython",
    "version": 3
   },
   "file_extension": ".py",
   "mimetype": "text/x-python",
   "name": "python",
   "nbconvert_exporter": "python",
   "pygments_lexer": "ipython3",
   "version": "3.9.12"
  }
 },
 "nbformat": 4,
 "nbformat_minor": 5
}
