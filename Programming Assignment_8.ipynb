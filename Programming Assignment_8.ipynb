{
 "cells": [
  {
   "cell_type": "code",
   "execution_count": 6,
   "id": "152f7f7b",
   "metadata": {},
   "outputs": [
    {
     "name": "stdout",
     "output_type": "stream",
     "text": [
      "[10, 10, 10]\n",
      "[10, 10, 10]\n",
      "[10, 10, 10]\n"
     ]
    }
   ],
   "source": [
    "## Q.1 Write a Python Program to Add Two Matrices?\n",
    "\n",
    "X = [[1,2,3],\n",
    "    [4 ,5,6],\n",
    "    [7 ,8,9]]\n",
    "\n",
    "Y = [[9,8,7],\n",
    "    [6,5,4],\n",
    "    [3,2,1]]\n",
    "\n",
    "result = [[0,0,0],\n",
    "        [0,0,0],\n",
    "        [0,0,0]]\n",
    "\n",
    "# iterate through rows\n",
    "\n",
    "for i in range(len(X)):\n",
    "    # iterate through columns\n",
    "    \n",
    "    for j in range(len(X[0])):\n",
    "        result[i][j] = X[i][j] + Y[i][j]\n",
    "        \n",
    "for r in result:\n",
    "    print(r)\n"
   ]
  },
  {
   "cell_type": "code",
   "execution_count": 7,
   "id": "7a919879",
   "metadata": {},
   "outputs": [
    {
     "name": "stdout",
     "output_type": "stream",
     "text": [
      "[12, 15, 27, 3]\n",
      "[24, 30, 54, 6]\n",
      "[36, 45, 81, 9]\n"
     ]
    }
   ],
   "source": [
    "## Q.2 Write a Python Program to Multiply Two Matrices?\n",
    "\n",
    "A = [[12, 7, 3],\n",
    "    [4, 5, 6],\n",
    "    [7, 8, 9]]\n",
    "\n",
    "B = [[5, 8, 1, 2],\n",
    "    [6, 7, 3, 0],\n",
    "    [4, 5, 9, 1]]\n",
    "\n",
    "result = [[0, 0, 0, 0],\n",
    "        [0, 0, 0, 0],\n",
    "        [0, 0, 0, 0]]\n",
    "\n",
    "# iterating though row of A\n",
    "\n",
    "for i in range(len(A)):\n",
    "    \n",
    "    # iterating through column of B\n",
    "    \n",
    "    for j in range(len(B[0])):\n",
    "        \n",
    "        ## iterating though row of B\n",
    "        \n",
    "        for k in range(len(B)):\n",
    "            result[i][j] = A[i][k] * B[k][j]\n",
    "\n",
    "for r in result:\n",
    "    print(r)"
   ]
  },
  {
   "cell_type": "code",
   "execution_count": 8,
   "id": "2301cd78",
   "metadata": {},
   "outputs": [
    {
     "name": "stdout",
     "output_type": "stream",
     "text": [
      "Result of matrix is\n",
      "1  2  3  4  \n",
      "2  2  3  4  \n",
      "3  3  3  4  \n",
      "4  4  4  4  \n"
     ]
    }
   ],
   "source": [
    "## Q.3 Write a Python Program to Transpose a Matrix?\n",
    "\n",
    "N = 4\n",
    " \n",
    "# This function stores\n",
    "# transpose of A[][] in B[][]\n",
    "\n",
    "def transpose(A,B):\n",
    "    \n",
    "    for i in range(N):\n",
    "        for j in range(N):\n",
    "            B[i][j] = A[j][i]\n",
    "            \n",
    "    # driver code\n",
    "    \n",
    "A = [ [1, 1, 1, 1],\n",
    "    [2, 2, 2, 2],\n",
    "    [3, 3, 3, 3],\n",
    "    [4, 4, 4, 4]]\n",
    "    \n",
    "B = A[:][:]  # to store the result\n",
    "    \n",
    "transpose(A,B)\n",
    "\n",
    "print(\"Result of matrix is\")\n",
    "\n",
    "for i in range(N):\n",
    "    for j in range(N):\n",
    "        print(B[i][j], \" \", end='')\n",
    "    print()\n",
    "    \n",
    "    "
   ]
  },
  {
   "cell_type": "code",
   "execution_count": 10,
   "id": "2a1d1ba5",
   "metadata": {},
   "outputs": [
    {
     "name": "stdout",
     "output_type": "stream",
     "text": [
      "brown dog fox jumps lazy over quick the the\n"
     ]
    }
   ],
   "source": [
    "## Q.4 Write a Python Program to Sort Words in Alphabetic Order?\n",
    "\n",
    "def Func(S):\n",
    "    W = S.split(\" \")\n",
    "    for i in range(len(W)):\n",
    "        \n",
    "        # convert all the words into lowercase\n",
    "        W[i] = W[i].lower()\n",
    "    S = sorted(W)\n",
    "    print(' '.join(S))\n",
    "        \n",
    "S = \"the Quick brown fox jumPs over the lazY Dog\"\n",
    "Func(S)"
   ]
  },
  {
   "cell_type": "code",
   "execution_count": 11,
   "id": "d81a49fb",
   "metadata": {},
   "outputs": [
    {
     "name": "stdout",
     "output_type": "stream",
     "text": [
      "The original string is :- INEURON, is best : for ! Data Science ;\n",
      "string after removing punctuation :- INEURON is best  for  Data Science \n"
     ]
    }
   ],
   "source": [
    "## Q.5 Write a Python Program to Remove Punctuation From a String?\n",
    "\n",
    "test_str = \"INEURON, is best : for ! Data Science ;\"\n",
    "\n",
    "# Printing original string\n",
    "\n",
    "print(\"The original string is :- \"+ test_str)\n",
    "\n",
    "# initializing punctuations string\n",
    "punc = '''!()-[]{};:'\"\\,<>./?@#$%^&*_~'''\n",
    "\n",
    "for i in test_str:\n",
    "    if i in punc:\n",
    "        test_str = test_str.replace(i,\"\")\n",
    "\n",
    "# string after removing punctuation\n",
    "\n",
    "print(\"string after removing punctuation :- \"+test_str)"
   ]
  },
  {
   "cell_type": "code",
   "execution_count": null,
   "id": "57c6a68a",
   "metadata": {},
   "outputs": [],
   "source": []
  }
 ],
 "metadata": {
  "kernelspec": {
   "display_name": "Python 3 (ipykernel)",
   "language": "python",
   "name": "python3"
  },
  "language_info": {
   "codemirror_mode": {
    "name": "ipython",
    "version": 3
   },
   "file_extension": ".py",
   "mimetype": "text/x-python",
   "name": "python",
   "nbconvert_exporter": "python",
   "pygments_lexer": "ipython3",
   "version": "3.9.12"
  }
 },
 "nbformat": 4,
 "nbformat_minor": 5
}
