{
 "cells": [
  {
   "cell_type": "code",
   "execution_count": 1,
   "id": "ebbe3491",
   "metadata": {},
   "outputs": [
    {
     "name": "stdout",
     "output_type": "stream",
     "text": [
      " Enter any number : 135\n",
      " entered number is Disarium Number\n"
     ]
    }
   ],
   "source": [
    "## Q. 1 Write a Python program to check if the given number is a Disarium Number?\n",
    "\n",
    "n = int(input(\" Enter any number : \"))\n",
    "\n",
    "import math\n",
    "\n",
    "def check(n):\n",
    "    # count digits in n\n",
    "    count_digits = len(str(n))\n",
    "    sum = 0\n",
    "    x = n\n",
    "    while (x!=0):\n",
    "        r = x % 10\n",
    "        ## Sum the digits by powering according to\n",
    "        # the positions\n",
    "        \n",
    "        sum = (int) (sum + math.pow(r,count_digits))\n",
    "        count_digits = count_digits - 1\n",
    "        x = x//10\n",
    "        \n",
    "        # If sum is same as number, then number is\n",
    "        \n",
    "    if sum == n:\n",
    "        return 1\n",
    "    else:\n",
    "        return 0\n",
    "    \n",
    "# n = 135\n",
    "    \n",
    "if (check(n) == 1):\n",
    "    print(\" entered number is Disarium Number\")\n",
    "\n",
    "else:\n",
    "    print (\" entered number is Not a Disarium Number\")"
   ]
  },
  {
   "cell_type": "code",
   "execution_count": 4,
   "id": "cf04f89d",
   "metadata": {},
   "outputs": [
    {
     "name": "stdout",
     "output_type": "stream",
     "text": [
      "all disarium numbers between 1 to 100\n",
      "1\n",
      "2\n",
      "3\n",
      "4\n",
      "5\n",
      "6\n",
      "7\n",
      "8\n",
      "9\n",
      "89\n"
     ]
    }
   ],
   "source": [
    "## Q.2 Write a Python program to print all disarium numbers between 1 to 100?\n",
    "\n",
    "\n",
    "\n",
    "import math\n",
    "\n",
    "def check(n):\n",
    "    # count digits in n\n",
    "    count_digits = len(str(n))\n",
    "    sum = 0\n",
    "    x = n\n",
    "    while (x!=0):\n",
    "        r = x % 10\n",
    "        ## Sum the digits by powering according to\n",
    "        # the positions\n",
    "        \n",
    "        sum = (int) (sum + math.pow(r,count_digits))\n",
    "        count_digits = count_digits - 1\n",
    "        x = x//10\n",
    "        \n",
    "        # If sum is same as number, then number is\n",
    "        \n",
    "    if sum == n:\n",
    "        return 1\n",
    "    else:\n",
    "        return 0\n",
    "\n",
    "print(\"all disarium numbers between 1 to 100\")    \n",
    "\n",
    "for n in range(1,101):\n",
    "    if (check(n) == 1):\n",
    "        print(n)"
   ]
  },
  {
   "cell_type": "code",
   "execution_count": 5,
   "id": "d1089106",
   "metadata": {},
   "outputs": [
    {
     "name": "stdout",
     "output_type": "stream",
     "text": [
      " Enter any number : 99\n",
      "99 is happy number\n"
     ]
    }
   ],
   "source": [
    "## Q.3 Write a Python program to check if the given number is Happy Number?\n",
    "\n",
    "n = int(input(\" Enter any number : \"))\n",
    "\n",
    "def numSquareSum(n):\n",
    "    squareSum = 0\n",
    "    while(n):\n",
    "        squareSum += (n%10) * (n%10)\n",
    "        n = int(n/10)\n",
    "        return squareSum\n",
    "\n",
    "def HappyNumber(n):\n",
    "    slow =n\n",
    "    fast = n\n",
    "    while(True):\n",
    "        slow = numSquareSum(slow)\n",
    "        fast = numSquareSum(numSquareSum(fast))\n",
    "        if (slow != fast):\n",
    "            continue\n",
    "        else:\n",
    "            break\n",
    "    return(slow == 1)\n",
    "\n",
    "\n",
    "\n",
    "if (HappyNumber(n)):\n",
    "    print(n, \"is happy number\")\n",
    "    \n",
    "else:\n",
    "    print(n, \"is not happy number\")"
   ]
  },
  {
   "cell_type": "code",
   "execution_count": 6,
   "id": "84ce655e",
   "metadata": {},
   "outputs": [
    {
     "name": "stdout",
     "output_type": "stream",
     "text": [
      "Happy numbers between 1 to 100\n",
      "1\n",
      "3\n",
      "7\n",
      "9\n",
      "11\n",
      "13\n",
      "17\n",
      "19\n",
      "21\n",
      "23\n",
      "27\n",
      "29\n",
      "31\n",
      "33\n",
      "37\n",
      "39\n",
      "41\n",
      "43\n",
      "47\n",
      "49\n",
      "51\n",
      "53\n",
      "57\n",
      "59\n",
      "61\n",
      "63\n",
      "67\n",
      "69\n",
      "71\n",
      "73\n",
      "77\n",
      "79\n",
      "81\n",
      "83\n",
      "87\n",
      "89\n",
      "91\n",
      "93\n",
      "97\n",
      "99\n"
     ]
    }
   ],
   "source": [
    "## Q.4 Write a Python program to print all happy numbers between 1 and 100?\n",
    "\n",
    "def numSquareSum(n):\n",
    "    squareSum = 0\n",
    "    while(n):\n",
    "        squareSum += (n%10) * (n%10)\n",
    "        n = int(n/10)\n",
    "        return squareSum\n",
    "\n",
    "def HappyNumber(n):\n",
    "    slow =n\n",
    "    fast = n\n",
    "    while(True):\n",
    "        slow = numSquareSum(slow)\n",
    "        fast = numSquareSum(numSquareSum(fast))\n",
    "        if (slow != fast):\n",
    "            continue\n",
    "        else:\n",
    "            break\n",
    "    return(slow == 1)\n",
    "\n",
    "print(\"Happy numbers between 1 to 100\")\n",
    "\n",
    "for n in range(1,101):\n",
    "    if(HappyNumber(n)):\n",
    "        print(n)\n"
   ]
  },
  {
   "cell_type": "code",
   "execution_count": 2,
   "id": "ca8d2416",
   "metadata": {},
   "outputs": [
    {
     "name": "stdout",
     "output_type": "stream",
     "text": [
      "enter a number :- 14\n",
      "14  is not harshad number\n"
     ]
    }
   ],
   "source": [
    "## Q. 5 Write a Python program to determine whether the given number is a Harshad Number?\n",
    "\n",
    "n = int(input(\"enter a number :- \"))\n",
    "\n",
    "def checkHarshad(n):\n",
    "    sum = 0\n",
    "    temp = n\n",
    "    while temp > 0:\n",
    "        sum = sum + temp % 10\n",
    "        temp = temp // 10\n",
    "    return n % sum == 0\n",
    "\n",
    "if (checkHarshad(n)):\n",
    "    print(n, \"is harshad number\")\n",
    "else:\n",
    "    print(n, \" is not harshad number\")"
   ]
  },
  {
   "cell_type": "code",
   "execution_count": 4,
   "id": "9621c222",
   "metadata": {},
   "outputs": [
    {
     "name": "stdout",
     "output_type": "stream",
     "text": [
      " harshad numbers between 1 to 100\n",
      "1\n",
      "2\n",
      "3\n",
      "4\n",
      "5\n",
      "6\n",
      "7\n",
      "8\n",
      "9\n",
      "10\n",
      "12\n",
      "18\n",
      "20\n",
      "21\n",
      "24\n",
      "27\n",
      "30\n",
      "36\n",
      "40\n",
      "42\n",
      "45\n",
      "48\n",
      "50\n",
      "54\n",
      "60\n",
      "63\n",
      "70\n",
      "72\n",
      "80\n",
      "81\n",
      "84\n",
      "90\n",
      "100\n"
     ]
    }
   ],
   "source": [
    "## Q. 6 Write a Python program to print all pronic numbers between 1 and 100?\n",
    "\n",
    "# n = int(input(\"enter a number :- \"))\n",
    "\n",
    "def checkHarshad(n):\n",
    "    sum = 0\n",
    "    temp = n\n",
    "    while temp > 0:\n",
    "        sum = sum + temp % 10\n",
    "        temp = temp // 10\n",
    "    return n % sum == 0\n",
    "\n",
    "print(\" harshad numbers between 1 to 100\")\n",
    "\n",
    "for n in range(1,101):\n",
    "    if (checkHarshad(n)):\n",
    "        print(n)\n",
    "\n"
   ]
  },
  {
   "cell_type": "code",
   "execution_count": 11,
   "id": "98e466c4",
   "metadata": {},
   "outputs": [
    {
     "data": {
      "text/plain": [
       "2"
      ]
     },
     "execution_count": 11,
     "metadata": {},
     "output_type": "execute_result"
    }
   ],
   "source": []
  },
  {
   "cell_type": "code",
   "execution_count": null,
   "id": "e4984253",
   "metadata": {},
   "outputs": [],
   "source": []
  }
 ],
 "metadata": {
  "kernelspec": {
   "display_name": "Python 3 (ipykernel)",
   "language": "python",
   "name": "python3"
  },
  "language_info": {
   "codemirror_mode": {
    "name": "ipython",
    "version": 3
   },
   "file_extension": ".py",
   "mimetype": "text/x-python",
   "name": "python",
   "nbconvert_exporter": "python",
   "pygments_lexer": "ipython3",
   "version": "3.9.12"
  }
 },
 "nbformat": 4,
 "nbformat_minor": 5
}
