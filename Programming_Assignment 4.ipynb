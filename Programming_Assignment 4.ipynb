{
 "cells": [
  {
   "cell_type": "code",
   "execution_count": 1,
   "id": "0b1409cc",
   "metadata": {},
   "outputs": [
    {
     "name": "stdout",
     "output_type": "stream",
     "text": [
      "Enter number 3\n",
      "factorial of 3 is 6\n"
     ]
    }
   ],
   "source": [
    "## Q. 1. Write a Python Program to Find the Factorial of a Number?\n",
    "\n",
    "n = int(input(\"Enter number \"))\n",
    "f = 1\n",
    "if n<0:\n",
    "    print(\"factorial does not exist for negative num\")\n",
    "elif n == 0:\n",
    "    print(\"fatorial of 0 : \",1)\n",
    "else:\n",
    "    for i in range(1,n+1):\n",
    "        f = f*i\n",
    "    print(\"factorial of\",n, \"is\", f)\n",
    "    \n"
   ]
  },
  {
   "cell_type": "code",
   "execution_count": 4,
   "id": "715f34d5",
   "metadata": {},
   "outputs": [
    {
     "name": "stdout",
     "output_type": "stream",
     "text": [
      "multiplication table of :- 5\n",
      "5\n",
      "10\n",
      "15\n",
      "20\n",
      "25\n",
      "30\n",
      "35\n",
      "40\n",
      "45\n",
      "50\n"
     ]
    }
   ],
   "source": [
    "## Q.2. Write a Python Program to Display the multiplication Table?\n",
    "\n",
    "n = int(input(\"multiplication table of :- \"))\n",
    "i = 1\n",
    "while i<= 10:\n",
    "    print(i*n)\n",
    "    i = i+1\n",
    "    \n",
    "    "
   ]
  },
  {
   "cell_type": "code",
   "execution_count": null,
   "id": "eec44fd9",
   "metadata": {},
   "outputs": [],
   "source": [
    "1,1,2,3,5"
   ]
  },
  {
   "cell_type": "code",
   "execution_count": 7,
   "id": "4b065630",
   "metadata": {},
   "outputs": [
    {
     "name": "stdout",
     "output_type": "stream",
     "text": [
      "0\n",
      "1\n",
      "1\n",
      "2\n",
      "3\n",
      "5\n",
      "8\n",
      "13\n",
      "21\n",
      "34\n"
     ]
    }
   ],
   "source": [
    "## Q.3. Write a Python Program to Print the Fibonacci sequence?\n",
    "\n",
    "def fib(n):\n",
    "    a = 0\n",
    "    b = 1\n",
    "    if n == 1:\n",
    "        print(a)\n",
    "        \n",
    "    else:\n",
    "        print(a)\n",
    "        print(b)\n",
    "        for i in range(2,n):\n",
    "            c = a+b\n",
    "            a = b\n",
    "            b = c\n",
    "            print(c)\n",
    "            \n",
    "fib(10)\n",
    "            \n",
    "    "
   ]
  },
  {
   "cell_type": "code",
   "execution_count": 27,
   "id": "ce5df0f5",
   "metadata": {},
   "outputs": [
    {
     "name": "stdout",
     "output_type": "stream",
     "text": [
      "enter number 153\n",
      "153 is an Armstrong number\n"
     ]
    }
   ],
   "source": [
    "##Q 4. Write a Python Program to Check Armstrong Number?\n",
    "\n",
    "n = int(input(\"enter number \"))\n",
    "sum = 0\n",
    "t = n\n",
    "while t>0:\n",
    "    digit = t%10\n",
    "    sum += digit**3\n",
    "    t//= 10\n",
    "    \n",
    "    \n",
    "if n == sum:\n",
    "    print(n, \"is an Armstrong number\")\n",
    "    \n",
    "else:\n",
    "    print(n, \"is not an Armstrong number\")"
   ]
  },
  {
   "cell_type": "code",
   "execution_count": 28,
   "id": "e7438bdf",
   "metadata": {},
   "outputs": [
    {
     "name": "stdout",
     "output_type": "stream",
     "text": [
      "153\n",
      "370\n",
      "371\n",
      "407\n"
     ]
    }
   ],
   "source": [
    "## Q. 5. Write a Python Program to Find Armstrong Number in an Interval?\n",
    "\n",
    "for n in range(100,1001):\n",
    "    order = len(str(n))\n",
    "    sum = 0\n",
    "    t = n\n",
    "    while t>0:\n",
    "        digit = t%10\n",
    "        sum += digit ** order\n",
    "        t//= 10\n",
    "    if n == sum:\n",
    "        print(n)"
   ]
  },
  {
   "cell_type": "code",
   "execution_count": 5,
   "id": "3da22758",
   "metadata": {},
   "outputs": [
    {
     "name": "stdout",
     "output_type": "stream",
     "text": [
      "55\n"
     ]
    }
   ],
   "source": [
    "## Q.6. Write a Python Program to Find the Sum of Natural Numbers?\n",
    "\n",
    "def findSum(n):\n",
    "    x = 1\n",
    "    sum = 0\n",
    "    while x <= n:\n",
    "        sum = sum + x\n",
    "        x = x+1\n",
    "    print(sum)\n",
    "        \n",
    "findSum(10)\n",
    "    "
   ]
  },
  {
   "cell_type": "code",
   "execution_count": null,
   "id": "b9efd4aa",
   "metadata": {},
   "outputs": [],
   "source": []
  }
 ],
 "metadata": {
  "kernelspec": {
   "display_name": "Python 3 (ipykernel)",
   "language": "python",
   "name": "python3"
  },
  "language_info": {
   "codemirror_mode": {
    "name": "ipython",
    "version": 3
   },
   "file_extension": ".py",
   "mimetype": "text/x-python",
   "name": "python",
   "nbconvert_exporter": "python",
   "pygments_lexer": "ipython3",
   "version": "3.9.12"
  }
 },
 "nbformat": 4,
 "nbformat_minor": 5
}
