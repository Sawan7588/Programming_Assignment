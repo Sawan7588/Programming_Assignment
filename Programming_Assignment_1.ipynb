{
 "cells": [
  {
   "cell_type": "code",
   "execution_count": null,
   "id": "db1e6702",
   "metadata": {},
   "outputs": [],
   "source": [
    "# Q.1 Write a Python program to print\"Hello Python\"?\n",
    "Ans :- print(\"Hello Python\")"
   ]
  },
  {
   "cell_type": "code",
   "execution_count": null,
   "id": "7d03c48e",
   "metadata": {},
   "outputs": [],
   "source": [
    "# Q.2 Write a Python program to do arithmetical operations addition and division.?\n",
    "Ans:-\n",
    "    a = 6\n",
    "    b = 3\n",
    "    add = a+b\n",
    "    div = a/b\n",
    "    print(\"addition of numbers : \",add)\n",
    "    print(\"division of numbers : \",div)\n",
    "    \n",
    "    \n",
    "    "
   ]
  },
  {
   "cell_type": "code",
   "execution_count": null,
   "id": "a6be9f87",
   "metadata": {},
   "outputs": [],
   "source": [
    "# Q.3 Write a Python program to find the area of a triangle?\n",
    "Ans :-\n",
    "    \n",
    "    b = 4\n",
    "    h = 5\n",
    "    area = (b*h)/2\n",
    "    print(\"Area of triangle is : \", area)"
   ]
  },
  {
   "cell_type": "code",
   "execution_count": null,
   "id": "da603ed7",
   "metadata": {},
   "outputs": [],
   "source": [
    "# Q.4 Write a Python program to swap two variables?\n",
    "Ans:-\n",
    "    \n",
    "    x = 10\n",
    "    y = 20\n",
    "    \n",
    "    x,y = y,x\n",
    "    \n",
    "    print(\"Value of x :\",x)\n",
    "    print(\"Value of y :\",y)\n",
    "    "
   ]
  },
  {
   "cell_type": "code",
   "execution_count": null,
   "id": "8593eaf9",
   "metadata": {},
   "outputs": [],
   "source": [
    "# Q.5 Write a Python program to generate a random number?\n",
    "Ans :- \n",
    "    \n",
    "    import random\n",
    "    n = random.random()\n",
    "    print(n)\n"
   ]
  }
 ],
 "metadata": {
  "kernelspec": {
   "display_name": "Python 3 (ipykernel)",
   "language": "python",
   "name": "python3"
  },
  "language_info": {
   "codemirror_mode": {
    "name": "ipython",
    "version": 3
   },
   "file_extension": ".py",
   "mimetype": "text/x-python",
   "name": "python",
   "nbconvert_exporter": "python",
   "pygments_lexer": "ipython3",
   "version": "3.9.12"
  }
 },
 "nbformat": 4,
 "nbformat_minor": 5
}
