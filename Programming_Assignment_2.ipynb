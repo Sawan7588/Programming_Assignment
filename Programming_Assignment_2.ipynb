{
 "cells": [
  {
   "cell_type": "code",
   "execution_count": null,
   "id": "574b5f45",
   "metadata": {},
   "outputs": [],
   "source": [
    "# Q.1 Write a Python program to convert kilometers to miles?\n",
    "Ans:- \n",
    "    \n",
    "km = int(input(\"enter number which you want to convert km to miles \"))\n",
    "\n",
    "# 1km = 0.62137 miles\n",
    "\n",
    "m = (0.621371*km)\n",
    "\n",
    "print(km, \"Kilometer  will be : \", m, \"miles \" )"
   ]
  },
  {
   "cell_type": "code",
   "execution_count": null,
   "id": "140c33cb",
   "metadata": {},
   "outputs": [],
   "source": [
    "# Q.2 Write a Python program to convert Celsius to Fahrenheit?\n",
    "Ans :-\n",
    "    \n",
    "cel = int(input(\"Enter number to convert Celsius to Fehrenheit\"))\n",
    "\n",
    "# 1 degree celsius = 33.8 F\n",
    "\n",
    "F = (cel*9/5) + 32\n",
    "\n",
    "print(cel,\"Celsius will be : \", F, \"Fehrenheit\")\n",
    "    "
   ]
  },
  {
   "cell_type": "code",
   "execution_count": null,
   "id": "7eb122bc",
   "metadata": {},
   "outputs": [],
   "source": [
    "# Q.3 Write a Python program to display calendar?\n",
    "Ans :-\n",
    "    \n",
    "# importing calender module\n",
    "\n",
    "import calendar\n",
    "\n",
    "yy = int(input(\"Enter year : \"))\n",
    "mm = int(input(\"Enter month : \"))\n",
    "\n",
    "# display the calender\n",
    "\n",
    "print(calendar.month(yy,mm))"
   ]
  },
  {
   "cell_type": "code",
   "execution_count": null,
   "id": "e6ac3b82",
   "metadata": {},
   "outputs": [],
   "source": [
    "# Q.4 Write a Python program to solve quadratic equation?\n",
    "Ans :- \n",
    "    \n",
    "# import complex math module\n",
    "\n",
    "import cmath\n",
    "\n",
    "a = 5\n",
    "b = 3\n",
    "c = 2\n",
    "\n",
    "# calculating the discriminant\n",
    "\n",
    "dis = (b**2) - (4* a*c)\n",
    "\n",
    "# find two results\n",
    "\n",
    "ans1 = (-b-cmath.sqrt(dis))/(2*a)\n",
    "ans2 = (-b+cmath.sqrt(dis))/(2*a)\n",
    "\n",
    "# printing the results\n",
    "\n",
    "print(\"The roots are \")\n",
    "\n",
    "print(ans1)\n",
    "print(ans2)"
   ]
  },
  {
   "cell_type": "code",
   "execution_count": null,
   "id": "46b632ce",
   "metadata": {},
   "outputs": [],
   "source": [
    "# Q.5 Write a Python program to swap two variables without temp variable?\n",
    "Ans:-\n",
    "    \n",
    "x = 10\n",
    "y = 20\n",
    "\n",
    "x,y = y,x\n",
    "\n",
    "print(\"Value of x : \",  x)\n",
    "print(\"Value of y : \" , y)"
   ]
  }
 ],
 "metadata": {
  "kernelspec": {
   "display_name": "Python 3 (ipykernel)",
   "language": "python",
   "name": "python3"
  },
  "language_info": {
   "codemirror_mode": {
    "name": "ipython",
    "version": 3
   },
   "file_extension": ".py",
   "mimetype": "text/x-python",
   "name": "python",
   "nbconvert_exporter": "python",
   "pygments_lexer": "ipython3",
   "version": "3.9.12"
  }
 },
 "nbformat": 4,
 "nbformat_minor": 5
}
