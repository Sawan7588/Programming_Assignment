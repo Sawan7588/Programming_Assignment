{
 "cells": [
  {
   "cell_type": "code",
   "execution_count": 6,
   "id": "1b03a4a7",
   "metadata": {},
   "outputs": [
    {
     "name": "stdout",
     "output_type": "stream",
     "text": [
      " first number 12\n",
      " second number 15\n",
      "LCM of the given nubers is :- 60\n"
     ]
    }
   ],
   "source": [
    "# Q.1 Write a Python Program to Find LCM?\n",
    "\n",
    "x = int(input(\" first number \"))\n",
    "y = int(input(\" second number \"))\n",
    "\n",
    "def find_lcm(x,y):\n",
    "    if x > y:\n",
    "        greater = x\n",
    "    else:\n",
    "        greater = y\n",
    "        \n",
    "    while(True):\n",
    "        if((greater % x == 0) and (greater % y == 0)):\n",
    "            LCM = greater\n",
    "            break\n",
    "            \n",
    "        greater += 1\n",
    "    return LCM\n",
    "        \n",
    "print(\"LCM of the given nubers is :-\", find_lcm(x,y))"
   ]
  },
  {
   "cell_type": "code",
   "execution_count": 10,
   "id": "621580f8",
   "metadata": {},
   "outputs": [
    {
     "name": "stdout",
     "output_type": "stream",
     "text": [
      " first number 50\n",
      " second number 13\n",
      "HCF of given numbers is :-  1\n"
     ]
    }
   ],
   "source": [
    "# Q.2 Write a Python Program to Find HCF?\n",
    "\n",
    "x = int(input(\" first number \"))\n",
    "y = int(input(\" second number \"))\n",
    "\n",
    "def find_HCF(x,y):\n",
    "    if x > y :\n",
    "        smaller = y\n",
    "    else :\n",
    "        smaller = x\n",
    "        \n",
    "    for i in range(1,(smaller + 1)):\n",
    "        if((x % i == 0) and (y%i == 0)):\n",
    "            hcf = i\n",
    "    return hcf\n",
    "\n",
    "print(\"HCF of given numbers is :- \", find_HCF(x,y))"
   ]
  },
  {
   "cell_type": "code",
   "execution_count": 12,
   "id": "dc5cce71",
   "metadata": {},
   "outputs": [
    {
     "name": "stdout",
     "output_type": "stream",
     "text": [
      "Enter any number :344\n",
      "the decimal value of 344 is :- \n",
      "0b101011000  in binary\n",
      "0o530  in octal\n",
      "0x158 in hexadecimal\n"
     ]
    }
   ],
   "source": [
    "# Q. 3 Write a Python Program to Convert Decimal to Binary, Octal and Hexadecimal?\n",
    "\n",
    "dec = int(input(\"Enter any number :\"))\n",
    "\n",
    "print(\"the decimal value of\", dec, \"is :- \")\n",
    "print(bin(dec), \" in binary\")\n",
    "print(oct(dec), \" in octal\")\n",
    "print(hex(dec), \"in hexadecimal\")"
   ]
  },
  {
   "cell_type": "code",
   "execution_count": 3,
   "id": "c2ed95ff",
   "metadata": {},
   "outputs": [
    {
     "name": "stdout",
     "output_type": "stream",
     "text": [
      "find the ASCII value of :-  p\n",
      " the ASCII value of 'p'is 112\n"
     ]
    }
   ],
   "source": [
    "# Q.4 Write a Python Program To Find ASCII value of a character?\n",
    "\n",
    "c = input(\"find the ASCII value of :-  \")\n",
    "print(\" the ASCII value of '\"+ c + \"'is\" ,ord(c))"
   ]
  },
  {
   "cell_type": "code",
   "execution_count": null,
   "id": "85e3984b",
   "metadata": {},
   "outputs": [
    {
     "name": "stdout",
     "output_type": "stream",
     "text": [
      "select operator\n",
      "1. Add\n",
      "2.Substract\n",
      "3.Multiply\n",
      "4.Divide\n",
      "enter choice(1/2/3/4): 2\n",
      "Enter first number3\n",
      "Enter second number4\n",
      "3.0 - 4.0 = -1.0\n",
      "Let's do next calculation ? (yes/no): yes\n",
      "enter choice(1/2/3/4): 3\n",
      "Enter first number2\n",
      "Enter second number3\n",
      "2.0 * 3.0 = 6.0\n"
     ]
    }
   ],
   "source": [
    "# Q. 5 Write a Python Program to Make a Simple Calculator with 4 basic mathematical operations?\n",
    "\n",
    "# function to add two numbers\n",
    "def add(x,y):\n",
    "    return x + y\n",
    "# function to substract two numbers\n",
    "def sub(x,y):\n",
    "    return x - y\n",
    "# function to multiply two numbers\n",
    "def multiply(x,y):\n",
    "    return x * y\n",
    "# function to divide two numbers\n",
    "def divide(x,y):\n",
    "    return x / y\n",
    "\n",
    "print(\"select operator\")\n",
    "print(\"1. Add\")\n",
    "print(\"2.Substract\")\n",
    "print(\"3.Multiply\")\n",
    "print(\"4.Divide\")\n",
    "\n",
    "while True:\n",
    "    \n",
    "    # take input from the user\n",
    "    choice = input(\"enter choice(1/2/3/4): \")\n",
    "    if choice in ('1','2','3','4'):\n",
    "        num1 = float(input(\"Enter first number\"))\n",
    "        num2 = float(input(\"Enter second number\"))\n",
    "        \n",
    "        if choice == '1':\n",
    "            print(num1, \"+\", num2, \"=\", add(num1,num2))\n",
    "        elif choice == '2':\n",
    "            print(num1, \"-\", num2, \"=\", sub(num1,num2))\n",
    "        elif choice == '3':\n",
    "            print(num1, \"*\", num2, \"=\", multiply(num1,num2))\n",
    "        elif choice == '4':\n",
    "            print(num1, \"/\", num2, \"=\", divide(num1,num2))\n",
    "            \n",
    "        # check if the user wants another calculation\n",
    "        # break the while loop if answer is no\n",
    "        \n",
    "        next_calculation = input(\"Let's do next calculation ? (yes/no): \")\n",
    "        if next_calculation == \"no\":\n",
    "            break\n",
    "            \n",
    "    else:\n",
    "        print(\"invalid input\")\n",
    "        \n",
    "        \n",
    "    "
   ]
  },
  {
   "cell_type": "code",
   "execution_count": null,
   "id": "d8ea277b",
   "metadata": {},
   "outputs": [],
   "source": []
  }
 ],
 "metadata": {
  "kernelspec": {
   "display_name": "Python 3 (ipykernel)",
   "language": "python",
   "name": "python3"
  },
  "language_info": {
   "codemirror_mode": {
    "name": "ipython",
    "version": 3
   },
   "file_extension": ".py",
   "mimetype": "text/x-python",
   "name": "python",
   "nbconvert_exporter": "python",
   "pygments_lexer": "ipython3",
   "version": "3.9.12"
  }
 },
 "nbformat": 4,
 "nbformat_minor": 5
}
