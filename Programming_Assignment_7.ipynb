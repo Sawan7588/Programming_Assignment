{
 "cells": [
  {
   "cell_type": "code",
   "execution_count": null,
   "id": "e2bb1ba6",
   "metadata": {},
   "outputs": [],
   "source": [
    "# Q.1 Write a Python Program to find sum of array?\n",
    "\n",
    "def _sum(l):\n",
    "    sum = 0\n",
    "    for i in l:\n",
    "        sum = sum + i\n",
    "    return sum\n",
    "\n",
    "l = [1,2,3,4]\n",
    "_sum(l)"
   ]
  },
  {
   "cell_type": "code",
   "execution_count": 8,
   "id": "8772b073",
   "metadata": {},
   "outputs": [
    {
     "data": {
      "text/plain": [
       "4"
      ]
     },
     "execution_count": 8,
     "metadata": {},
     "output_type": "execute_result"
    }
   ],
   "source": [
    "# Q.2 Write a Python Program to find largest element in an array?\n",
    "\n",
    "def largest_element(l):\n",
    "    n = len(l)\n",
    "    max = 0\n",
    "    for i in range(1,n):\n",
    "        if l[i] > max:\n",
    "            max = l[i]\n",
    "    return max\n",
    "\n",
    "l = [1,2,3,4]\n",
    "largest_element(l)"
   ]
  },
  {
   "cell_type": "code",
   "execution_count": 11,
   "id": "10fa87d2",
   "metadata": {},
   "outputs": [
    {
     "data": {
      "text/plain": [
       "[5, 6, 7, 8, 1, 2, 3, 4]"
      ]
     },
     "execution_count": 11,
     "metadata": {},
     "output_type": "execute_result"
    }
   ],
   "source": [
    "# Q.3 Write a Python Program for array rotation?\n",
    "\n",
    "def rotate_list(l,d):\n",
    "    n = len(l)\n",
    "    l[:] = l[d:n] + l[0:d]\n",
    "    return l\n",
    "l = [1,2,3,4,5,6,7,8]\n",
    "d = 4\n",
    "rotate_list(l,d)\n",
    "    \n"
   ]
  },
  {
   "cell_type": "code",
   "execution_count": 12,
   "id": "ccbcbedb",
   "metadata": {},
   "outputs": [
    {
     "data": {
      "text/plain": [
       "[5, 6, 7, 8, 1, 2, 3, 4]"
      ]
     },
     "execution_count": 12,
     "metadata": {},
     "output_type": "execute_result"
    }
   ],
   "source": [
    "# Q.4 Write a Python Program to Split the array and add the first part to the end?\n",
    "\n",
    "def split_list(l,d):\n",
    "    n = len(l)\n",
    "    l[:] = l[d:n] + l[0:d]\n",
    "    return l\n",
    "l = [1,2,3,4,5,6,7,8]\n",
    "d = 4\n",
    "split_list(l,d)\n",
    "    "
   ]
  },
  {
   "cell_type": "code",
   "execution_count": 17,
   "id": "dc2c2ddb",
   "metadata": {},
   "outputs": [
    {
     "data": {
      "text/plain": [
       "True"
      ]
     },
     "execution_count": 17,
     "metadata": {},
     "output_type": "execute_result"
    }
   ],
   "source": [
    "# Q.5 Write a Python Program to check if given array is Monotonic?\n",
    "\n",
    "def isMonotonic(l):\n",
    "  \n",
    "    return (all(l[i] <= l[i + 1] for i in range(len(l) - 1)) or\n",
    "            all(l[i] >= l[i + 1] for i in range(len(l) - 1)))\n",
    "l = [14,13,11,6,4]\n",
    "isMonotonic(l)"
   ]
  },
  {
   "cell_type": "code",
   "execution_count": null,
   "id": "27d2b55b",
   "metadata": {},
   "outputs": [],
   "source": []
  }
 ],
 "metadata": {
  "kernelspec": {
   "display_name": "Python 3 (ipykernel)",
   "language": "python",
   "name": "python3"
  },
  "language_info": {
   "codemirror_mode": {
    "name": "ipython",
    "version": 3
   },
   "file_extension": ".py",
   "mimetype": "text/x-python",
   "name": "python",
   "nbconvert_exporter": "python",
   "pygments_lexer": "ipython3",
   "version": "3.9.12"
  }
 },
 "nbformat": 4,
 "nbformat_minor": 5
}
