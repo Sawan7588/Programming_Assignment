{
 "cells": [
  {
   "cell_type": "code",
   "execution_count": 2,
   "id": "1db1985e",
   "metadata": {},
   "outputs": [
    {
     "name": "stdout",
     "output_type": "stream",
     "text": [
      "0\n",
      "1\n",
      "1\n",
      "2\n",
      "3\n",
      "5\n",
      "8\n",
      "13\n",
      "21\n",
      "34\n"
     ]
    }
   ],
   "source": [
    "# Q.1 Write a Python Program to Display Fibonacci Sequence Using Recursion?\n",
    "\n",
    "def rec_fib(n):\n",
    "    if n <= 1:\n",
    "        return n\n",
    "    else:\n",
    "        return(rec_fib(n-1) + rec_fib(n-2))\n",
    "    \n",
    "nterms = 10\n",
    "\n",
    "if nterms <= 0:\n",
    "    print(\"please enter positive integer\")\n",
    "else:\n",
    "    for i in range(nterms):\n",
    "        print(rec_fib(i))"
   ]
  },
  {
   "cell_type": "code",
   "execution_count": 3,
   "id": "adbeee0c",
   "metadata": {},
   "outputs": [
    {
     "name": "stdout",
     "output_type": "stream",
     "text": [
      "Enter number :- 5\n",
      "factorial of given number is : 120\n"
     ]
    }
   ],
   "source": [
    "# Q.2 Write a Python Program to Find Factorial of Number Using Recursion?\n",
    "\n",
    "x = int(input(\"Enter number :- \"))\n",
    "def fact(x):\n",
    "    if x == 1:\n",
    "        return x\n",
    "    else:\n",
    "        return(x * fact(x - 1))\n",
    "\n",
    "print(\"factorial of given number is :\", fact(x))\n",
    "    "
   ]
  },
  {
   "cell_type": "code",
   "execution_count": 4,
   "id": "d545f68e",
   "metadata": {},
   "outputs": [
    {
     "data": {
      "text/plain": [
       "24.221453287197235"
      ]
     },
     "execution_count": 4,
     "metadata": {},
     "output_type": "execute_result"
    }
   ],
   "source": [
    "# Q.3 Write a Python Program to calculate your Body Mass Index?\n",
    "\n",
    "def BMI(height,weight):\n",
    "    bmi = weight/(height**2)\n",
    "    return bmi\n",
    "\n",
    "BMI(1.70,70)"
   ]
  },
  {
   "cell_type": "code",
   "execution_count": 5,
   "id": "0f519e82",
   "metadata": {},
   "outputs": [
    {
     "name": "stdout",
     "output_type": "stream",
     "text": [
      "Enter number : 14\n",
      "Natural logarithm of  14 is 2.6390573296152584\n"
     ]
    }
   ],
   "source": [
    "# Q.4 Write a Python Program to calculate the natural logarithm of any number?\n",
    "\n",
    "n = int(input(\"Enter number : \"))\n",
    "\n",
    "import math\n",
    "print(\"Natural logarithm of \", n , \"is\", math.log(n))"
   ]
  },
  {
   "cell_type": "code",
   "execution_count": 16,
   "id": "ba13fe44",
   "metadata": {},
   "outputs": [
    {
     "name": "stdout",
     "output_type": "stream",
     "text": [
      "Enter number : 5\n",
      "cube sum of first 5 natural numbers :- 225\n"
     ]
    }
   ],
   "source": [
    "# Q.5 Write a Python Program for cube sum of first n natural numbers?\n",
    "\n",
    "n = int(input(\"Enter number : \"))\n",
    "\n",
    "def SumOfCube(n):\n",
    "    sum = 0\n",
    "    for i in range(1,n+1):\n",
    "        sum += i*i*i\n",
    "        \n",
    "    return sum\n",
    "\n",
    "print(\"cube sum of first\", n, \"natural numbers :-\", SumOfCube(n))"
   ]
  },
  {
   "cell_type": "code",
   "execution_count": null,
   "id": "5639bd57",
   "metadata": {},
   "outputs": [],
   "source": []
  }
 ],
 "metadata": {
  "kernelspec": {
   "display_name": "Python 3 (ipykernel)",
   "language": "python",
   "name": "python3"
  },
  "language_info": {
   "codemirror_mode": {
    "name": "ipython",
    "version": 3
   },
   "file_extension": ".py",
   "mimetype": "text/x-python",
   "name": "python",
   "nbconvert_exporter": "python",
   "pygments_lexer": "ipython3",
   "version": "3.9.12"
  }
 },
 "nbformat": 4,
 "nbformat_minor": 5
}
